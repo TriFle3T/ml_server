{
  "nbformat": 4,
  "nbformat_minor": 0,
  "metadata": {
    "colab": {
      "name": "data.ipynb",
      "provenance": [],
      "collapsed_sections": []
    },
    "kernelspec": {
      "name": "python3",
      "display_name": "Python 3"
    },
    "language_info": {
      "name": "python"
    }
  },
  "cells": [
    {
      "cell_type": "code",
      "source": [
        "import pandas as pd"
      ],
      "metadata": {
        "id": "igD9C26PMlgH"
      },
      "execution_count": null,
      "outputs": []
    },
    {
      "cell_type": "code",
      "execution_count": null,
      "metadata": {
        "id": "yU985rIELkkX",
        "colab": {
          "base_uri": "https://localhost:8080/"
        },
        "outputId": "224316f1-af14-464e-bc61-66c9f608e17d"
      },
      "outputs": [
        {
          "output_type": "stream",
          "name": "stdout",
          "text": [
            "Mounted at /content/drive\n"
          ]
        }
      ],
      "source": [
        "from google.colab import drive\n",
        "drive.mount('/content/drive')"
      ]
    },
    {
      "cell_type": "code",
      "source": [
        "data1 = pd.read_csv('/content/drive/MyDrive/hug/ml/data/4차년도.csv', encoding='cp949')\n",
        "data2 = pd.read_csv('/content/drive/MyDrive/hug/ml/data/5차년도.csv', encoding='cp949')\n",
        "data3 = pd.read_csv('/content/drive/MyDrive/hug/ml/data/5차년도_2차.csv', encoding='cp949')\n",
        "data4 = pd.read_excel('/content/drive/MyDrive/hug/ml/data/한국어_단발성_대화_데이터셋.xlsx')"
      ],
      "metadata": {
        "id": "va6McD8JMI__"
      },
      "execution_count": null,
      "outputs": []
    },
    {
      "cell_type": "code",
      "source": [
        "data1.loc[(data1['상황'] == \"anger\"), '상황'] = 1  #분노 => 1\n",
        "data1.loc[(data1['상황'] == \"disgust\"), '상황'] = 2  #혐오 => 2\n",
        "data1.loc[(data1['상황'] == \"fear\"), '상황'] = 3  #공포 => 3\n",
        "data1.loc[(data1['상황'] == \"neutral\"), '상황'] = 4  #중립 => 4\n",
        "data1.loc[(data1['상황'] == \"sad\"), '상황'] = 5  #슬픔 => 5\n",
        "\n",
        "data2.loc[(data2['상황'] == \"anger\"), '상황'] = 1  #분노 => 1\n",
        "data2.loc[(data2['상황'] == \"disgust\"), '상황'] = 2  #혐오 => 2\n",
        "data2.loc[(data2['상황'] == \"fear\"), '상황'] = 3  #공포 => 3\n",
        "data2.loc[(data2['상황'] == \"neutral\"), '상황'] = 4  #중립 => 4\n",
        "data2.loc[(data2['상황'] == \"sad\"), '상황'] = 5  #슬픔 => 5\n",
        "\n",
        "data3.loc[(data3['상황'] == \"happiness\"), '상황'] = 0  #행복 => 0\n",
        "data3.loc[(data3['상황'] == \"angry\"), '상황'] = 1  #분노 => 1\n",
        "data3.loc[(data3['상황'] == \"disgust\"), '상황'] = 2  #혐오 => 2\n",
        "data3.loc[(data3['상황'] == \"fear\"), '상황'] = 3  #공포 => 3\n",
        "data3.loc[(data3['상황'] == \"neutral\"), '상황'] = 4  #중립 => 4\n",
        "data3.loc[(data3['상황'] == \"sadness\"), '상황'] = 5  #슬픔 => 5\n",
        "data3.loc[(data3['상황'] == \"surprise\"), '상황'] = 6  #놀람 => 6\n",
        "\n",
        "data4.loc[(data4['Emotion'] == \"행복\"), 'Emotion'] = 0  #행복 => 0\n",
        "data4.loc[(data4['Emotion'] == \"분노\"), 'Emotion'] = 1  #분노 => 1\n",
        "data4.loc[(data4['Emotion'] == \"혐오\"), 'Emotion'] = 2  #혐오 => 2\n",
        "data4.loc[(data4['Emotion'] == \"공포\"), 'Emotion'] = 3  #공포 => 3\n",
        "data4.loc[(data4['Emotion'] == \"중립\"), 'Emotion'] = 4  #중립 => 4\n",
        "data4.loc[(data4['Emotion'] == \"슬픔\"), 'Emotion'] = 5  #슬픔 => 5\n",
        "data4.loc[(data4['Emotion'] == \"놀람\"), 'Emotion'] = 6  #놀람 => 6\n",
        "\n",
        "data_list = []\n",
        "for ques, label in zip(data1['발화문'], data1['상황'])  :\n",
        "    data1_element = []   \n",
        "    data1_element.append(ques)\n",
        "    data1_element.append(str(label))\n",
        "\n",
        "    data_list.append(data1_element)\n",
        "\n",
        "for ques, label in zip(data2['발화문'], data2['상황'])  :\n",
        "    data2_element = []   \n",
        "    data2_element.append(ques)\n",
        "    data2_element.append(str(label))\n",
        "\n",
        "    data_list.append(data2_element)\n",
        "\n",
        "for ques, label in zip(data3['발화문'], data3['상황'])  :\n",
        "    data3_element = []   \n",
        "    data3_element.append(ques)\n",
        "    data3_element.append(str(label))\n",
        "\n",
        "    data_list.append(data3_element)\n",
        "data_test=[]\n",
        "for ques, label in zip(data4['Sentence'], data4['Emotion'])  :\n",
        "    data4_element = []   \n",
        "    data4_element.append(ques)\n",
        "    data4_element.append(str(label))\n",
        "\n",
        "    data_list.append(data4_element)"
      ],
      "metadata": {
        "id": "8YSbpTN-M4sG"
      },
      "execution_count": null,
      "outputs": []
    },
    {
      "cell_type": "code",
      "source": [
        "data = pd.DataFrame(data_list,columns=['ques','label'])"
      ],
      "metadata": {
        "id": "GeYoD4MmNGXF"
      },
      "execution_count": null,
      "outputs": []
    },
    {
      "cell_type": "code",
      "source": [
        "data['label'].value_counts()\n",
        "\n",
        "#행복 => 0\n",
        "#분노 => 1\n",
        "#혐오 => 2\n",
        "#공포 => 3\n",
        "#중립 => 4\n",
        "#슬픔 => 5\n",
        "#놀람 => 6"
      ],
      "metadata": {
        "colab": {
          "base_uri": "https://localhost:8080/"
        },
        "id": "7BdqEnwRTOoS",
        "outputId": "93ff8f4a-7ff9-496b-a8fb-d7adbab96f8f"
      },
      "execution_count": null,
      "outputs": [
        {
          "output_type": "execute_result",
          "data": {
            "text/plain": [
              "5    19267\n",
              "1    17300\n",
              "0    10585\n",
              "2    10089\n",
              "3     9599\n",
              "4     8092\n",
              "6     7653\n",
              "Name: label, dtype: int64"
            ]
          },
          "metadata": {},
          "execution_count": 6
        }
      ]
    },
    {
      "cell_type": "code",
      "source": [
        "data.to_csv('/content/drive/MyDrive/hug/ml/data/dataset.csv',index=False,encoding='cp949')"
      ],
      "metadata": {
        "id": "QeBimTviOOna"
      },
      "execution_count": null,
      "outputs": []
    },
    {
      "cell_type": "code",
      "source": [
        "datatest = pd.read_csv('/content/drive/MyDrive/hug/ml/data/dataset.csv', encoding='cp949')"
      ],
      "metadata": {
        "id": "dUhyTr2WOc6A"
      },
      "execution_count": null,
      "outputs": []
    }
  ]
}